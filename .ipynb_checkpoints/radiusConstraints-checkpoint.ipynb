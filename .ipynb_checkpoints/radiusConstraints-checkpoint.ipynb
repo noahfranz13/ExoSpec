{
 "cells": [
  {
   "cell_type": "code",
   "execution_count": 1,
   "metadata": {},
   "outputs": [],
   "source": [
    "import os, sys, glob\n",
    "\n",
    "from BreyoSpec import BreyoSpec\n",
    "import numpy as np\n",
    "import matplotlib.pyplot as plt\n"
   ]
  },
  {
   "cell_type": "code",
   "execution_count": 178,
   "metadata": {},
   "outputs": [],
   "source": [
    "# define some useful functions\n",
    "def combSpec(spec1, spec2, radFrac=1, w=0.01):\n",
    "    '''\n",
    "    Combine spectrum and simulate noise\n",
    "    \n",
    "    spec1 and spec2 are BreyoSpec objects\n",
    "    w [float] :  number between 0 and 1 defining how noisy the combined spectrum should be\n",
    "    radFrac [float] : fraction of exoplanet radius to host star radius\n",
    "    return: subtracted spectrum\n",
    "    '''\n",
    "    \n",
    "    # determine factor to mulitply spec2.flux by\n",
    "    fracAtm = 0.25 # define 10% of the exoplanets atmosphere as transmissible\n",
    "    factor = (1-(1-fracAtm)**2)*(radFrac)**2\n",
    "    \n",
    "    # combine flux with that factor\n",
    "    combFlux = spec1.flux + factor*spec2.flux # add spectra\n",
    "    combFluxNoisy = combFlux+w*np.random.normal(combFlux) # simulate noise\n",
    "    \n",
    "    return spec1.wave, combFluxNoisy\n",
    "\n",
    "def plotExo(exowave, exoflux, jupwave, jupflux, ax=None, **kwargs):\n",
    "    \n",
    "    if not ax:\n",
    "        fig, ax = plt.subplots(figsize=(16,6))\n",
    "    \n",
    "    ax.plot(exowave, exoflux, **kwargs)\n",
    "    ax.plot(jupwave, jupflux-np.median(jupflux), label='Jupiter')\n",
    "    ax.axvline( 6562.8, color='k', linestyle='--', label=r'H$\\alpha$', alpha=0.5)\n",
    "    ax.axvline( 4861.3, color='k', linestyle='--', label=r'H$\\beta$', alpha=0.5)\n",
    "    ax.axvline( 4340.4, color='k', linestyle='--', label=r'H$\\gamma$', alpha=0.5)\n",
    "    ax.axvline( 6190, color='r', linestyle='--', label=r'Methane', alpha=0.5)\n",
    "\n",
    "    ax.set_xlabel('Wavelength [$\\AA$]', fontsize=16)\n",
    "    ax.set_ylabel('Flux [$e^-$]', fontsize=16)\n",
    "    ax.grid()"
   ]
  },
  {
   "cell_type": "code",
   "execution_count": 179,
   "metadata": {},
   "outputs": [],
   "source": [
    "hostDir = '/home/ubuntu/Documents/ObsAstro/Data/postTransitOutput/'\n",
    "hostPaths = glob.glob(hostDir+\"*\")\n",
    "\n",
    "jupPath = '/home/ubuntu/Documents/ObsAstro/Data/Jupiter_20211109T005343.fit'"
   ]
  },
  {
   "cell_type": "code",
   "execution_count": 180,
   "metadata": {},
   "outputs": [
    {
     "name": "stderr",
     "output_type": "stream",
     "text": [
      "WARNING: Model is linear in parameters; consider using linear fitting methods. [astropy.modeling.fitting]\n",
      "WARNING: Model is linear in parameters; consider using linear fitting methods. [astropy.modeling.fitting]\n",
      "WARNING: Model is linear in parameters; consider using linear fitting methods. [astropy.modeling.fitting]\n",
      "WARNING: Model is linear in parameters; consider using linear fitting methods. [astropy.modeling.fitting]\n",
      "WARNING: Model is linear in parameters; consider using linear fitting methods. [astropy.modeling.fitting]\n",
      "WARNING: Model is linear in parameters; consider using linear fitting methods. [astropy.modeling.fitting]\n"
     ]
    }
   ],
   "source": [
    "hostSpec = BreyoSpec(hostPaths) # host star spectrum\n",
    "jupSpec = BreyoSpec(jupPath)"
   ]
  },
  {
   "cell_type": "code",
   "execution_count": 181,
   "metadata": {},
   "outputs": [],
   "source": [
    "from specutils.analysis import snr\n",
    "from specutils import Spectrum1D\n",
    "from astropy import units as u\n",
    "from astropy.nddata import NDUncertainty\n",
    "\n",
    "plot = False\n",
    "n = 1000\n",
    "\n",
    "radiusFrac = np.linspace(0,1,n)\n",
    "percents = []\n",
    "snrs = []\n",
    "\n",
    "for rf in radiusFrac:\n",
    "    wave, flux = combSpec(hostSpec, jupSpec, radFrac=rf)\n",
    "    \n",
    "    exoFlux = flux - hostSpec.flux\n",
    "    \n",
    "    if plot:\n",
    "        fig, ax = plt.subplots(figsize=(16,6))\n",
    "        plotExo(wave, exoFlux, jupSpec.wave, jupSpec.flux, ax=ax, label='Exoplanet Spectrum')\n",
    "        ax.legend()\n",
    "        ax.set_title(f'R_p/R_star = {rf}')\n",
    "        ax.axhline(np.median(exoFlux), color='k')\n",
    "    \n",
    "    methaneWave = 6190\n",
    "    whereMethane = np.where((wave > methaneWave-10) * (wave < methaneWave+10))[0]\n",
    "    \n",
    "    noise = np.median(exoFlux)\n",
    "    methaneMed = np.median(exoFlux[whereMethane])\n",
    "    \n",
    "    percentAboveNoise = np.abs((noise - methaneMed))\n",
    "    percents.append(percentAboveNoise)"
   ]
  },
  {
   "cell_type": "code",
   "execution_count": 183,
   "metadata": {},
   "outputs": [
    {
     "data": {
      "text/plain": [
       "Text(0, 0.5, 'Median(Flux) - Methane Flux')"
      ]
     },
     "execution_count": 183,
     "metadata": {},
     "output_type": "execute_result"
    },
    {
     "data": {
      "image/png": "[encoded data removed]",
      "text/plain": [
       "<Figure size 432x288 with 1 Axes>"
      ]
     },
     "metadata": {
      "needs_background": "light"
     },
     "output_type": "display_data"
    }
   ],
   "source": [
    "plt.plot(radiusFrac, percents)\n",
    "plt.xlabel('$R_p / R_{star}$')\n",
    "plt.ylabel('Median(Flux) - Methane Flux')"
   ]
  },
  {
   "cell_type": "code",
   "execution_count": null,
   "metadata": {},
   "outputs": [],
   "source": []
  }
 ],
 "metadata": {
  "kernelspec": {
   "display_name": "Python 3",
   "language": "python",
   "name": "python3"
  },
  "language_info": {
   "codemirror_mode": {
    "name": "ipython",
    "version": 3
   },
   "file_extension": ".py",
   "mimetype": "text/x-python",
   "name": "python",
   "nbconvert_exporter": "python",
   "pygments_lexer": "ipython3",
   "version": "3.8.5"
  }
 },
 "nbformat": 4,
 "nbformat_minor": 4
}
